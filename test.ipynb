{
 "cells": [
  {
   "cell_type": "code",
   "execution_count": 3,
   "metadata": {},
   "outputs": [],
   "source": [
    "from selenium import webdriver\n",
    "from webdriver_manager.chrome import ChromeDriverManager\n",
    "from selenium.webdriver.chrome.service import Service\n",
    "from selenium.webdriver.common.by import By\n",
    "opttions = webdriver.ChromeOptions()\n",
    "opttions.add_argument('--ignore-certificate-erros')\n",
    "opttions.add_argument('--ignore-certificate-errors')\n",
    "opttions.add_argument('--ignore-ssl-errors')\n",
    "opttions.add_argument('--start-maximized')\n",
    "\n",
    "# importação do webdriver, que é o que possibilita a implementação para todos\n",
    "\n",
    "\n",
    "servico = Service(ChromeDriverManager().install())\n",
    "# requisições para essa instância criada utilizando o método `get`\n",
    "navegdor = webdriver.Chrome(service=servico)\n",
    "browser = webdriver.Remote(command_executor='http://localhost:4444/wd/hub', options=opttions)"
   ]
  },
  {
   "cell_type": "code",
   "execution_count": 4,
   "metadata": {},
   "outputs": [],
   "source": [
    "browser.get('https://www.google.com.br')"
   ]
  }
 ],
 "metadata": {
  "kernelspec": {
   "display_name": "Python 3.10.6 ('.venv': venv)",
   "language": "python",
   "name": "python3"
  },
  "language_info": {
   "codemirror_mode": {
    "name": "ipython",
    "version": 3
   },
   "file_extension": ".py",
   "mimetype": "text/x-python",
   "name": "python",
   "nbconvert_exporter": "python",
   "pygments_lexer": "ipython3",
   "version": "3.10.6"
  },
  "orig_nbformat": 4,
  "vscode": {
   "interpreter": {
    "hash": "ee2d06cfeb97d06af79223d0142db036ed5e42760ea0a6fc8f138299efe61421"
   }
  }
 },
 "nbformat": 4,
 "nbformat_minor": 2
}
